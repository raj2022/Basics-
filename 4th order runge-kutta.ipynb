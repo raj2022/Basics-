{
 "cells": [
  {
   "cell_type": "markdown",
   "id": "1e71f22b",
   "metadata": {},
   "source": [
    "Only first order ordinary differential equations can be solved by using the Runge Kutta 4th order method.\n",
    "Below is the formula used to compute next value yn+1 from previous value yn. The value of n are 0, 1, 2, 3, ….(x – x0)/h. Here h is step height and xn+1 = x0 + h\n",
    ". Lower step size means more accuracy.\n",
    "\n",
    "K_1 = hf(x_n, y_n)\n",
    "K_2 = hf(x_n+h/2, y_n + k_1/2)\n",
    "K_3 = hf(x_n+h/2, y_n + k_2/2)\n",
    "K_4 = hf(x_n+h, y_n + k_3)\n",
    "y_(n+1) = y_n+k_1/6 +k_2/3 +k_3/3 +k_4/6 + O(h^5)\n",
    "\n",
    "The formula basically computes next value yn+1 using current yn plus weighted average of four increments. \n",
    "\n",
    "k1 is the increment based on the slope at the beginning of the interval, using y\n",
    "k2 is the increment based on the slope at the midpoint of the interval, using y + hk1/2.\n",
    "k3 is again the increment based on the slope at the midpoint, using using y + hk2/2.\n",
    "k4 is the increment based on the slope at the end of the interval, using y + hk3."
   ]
  },
  {
   "cell_type": "markdown",
   "id": "90a65991",
   "metadata": {},
   "source": [
    "The method is a fourth-order method, meaning that the local truncation error is on the order of O(h5), while the total accumulated error is order O(h4).\n",
    "Source:\n",
    "https://en.wikipedia.org/wiki/Runge%E2%80%93Kutta_methods"
   ]
  },
  {
   "cell_type": "code",
   "execution_count": 10,
   "id": "02e818db",
   "metadata": {},
   "outputs": [],
   "source": [
    "# Python program to implement Runge Kutta method\n",
    "# A sample differential equation \"dy / dx = (x - y)/2\"\n",
    "def dydx(x,y):\n",
    "    return ((x-y)/2)\n",
    "# Finds value of y for a given x using step size h\n",
    "# and initial value y0 at x0.\n",
    "def rungekutta(x0 ,y0, x, h):\n",
    "    #Count number of interation using step size of step height h\n",
    "    n = (int)((x-x0)/h)\n",
    "    #ITerate for number of iterations\n",
    "    y = y0\n",
    "    for i in range(1, n+1):\n",
    "        \"apply Runge Kutta Formulas to find the next values of y\"\n",
    "        k1 = h *dydx(x0, y)\n",
    "        k2 = h * dydx(x0 +0.5 *h, y*0.5 *k1)\n",
    "        k3 = h* dydx(x0 +0.5*h , y+ 0.5 *k2)\n",
    "        k4 = h * dydx(x0+h, y+k3)\n",
    "        \n",
    "        #Update the next value of y\n",
    "        y = y + (1.0/6.0)* (k1+2 *k2 + 2*k3 +k4)\n",
    "        # update next values of x\n",
    "        x0 = x0+h\n",
    "    return y"
   ]
  },
  {
   "cell_type": "code",
   "execution_count": 41,
   "id": "4cdf5609",
   "metadata": {},
   "outputs": [
    {
     "name": "stdout",
     "output_type": "stream",
     "text": [
      "The value of y at x is: 1.318825912537495\n"
     ]
    }
   ],
   "source": [
    "import random\n",
    "# Give inputs\n",
    "x0 = random.randint(0,4)\n",
    "y =1\n",
    "x =2\n",
    "h =0.2\n",
    "print ('The value of y at x is:', rungekutta(x0, y, x, h))"
   ]
  },
  {
   "cell_type": "code",
   "execution_count": 62,
   "id": "0e3e4cb8",
   "metadata": {},
   "outputs": [],
   "source": [
    "# import matplotlib.pyplot as plt\n",
    "# plt.plot(y,x)\n",
    "# plt.show()"
   ]
  },
  {
   "cell_type": "code",
   "execution_count": null,
   "id": "b406febf",
   "metadata": {},
   "outputs": [],
   "source": []
  }
 ],
 "metadata": {
  "kernelspec": {
   "display_name": "Python 3 (ipykernel)",
   "language": "python",
   "name": "python3"
  },
  "language_info": {
   "codemirror_mode": {
    "name": "ipython",
    "version": 3
   },
   "file_extension": ".py",
   "mimetype": "text/x-python",
   "name": "python",
   "nbconvert_exporter": "python",
   "pygments_lexer": "ipython3",
   "version": "3.8.11"
  }
 },
 "nbformat": 4,
 "nbformat_minor": 5
}
